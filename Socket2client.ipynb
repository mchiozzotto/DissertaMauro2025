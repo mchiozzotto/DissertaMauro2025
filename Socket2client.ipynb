{
 "cells": [
  {
   "cell_type": "code",
   "execution_count": 1,
   "id": "36763887-a128-4235-8385-ee228dcb69cc",
   "metadata": {},
   "outputs": [],
   "source": [
    "# Programa socket CLiente UDP para falar com Raspberry PI 3:"
   ]
  },
  {
   "cell_type": "code",
   "execution_count": 3,
   "id": "d10751cc",
   "metadata": {},
   "outputs": [],
   "source": [
    "import socket"
   ]
  },
  {
   "cell_type": "code",
   "execution_count": 5,
   "id": "e1ac4a7b",
   "metadata": {},
   "outputs": [],
   "source": [
    "import os"
   ]
  },
  {
   "cell_type": "code",
   "execution_count": 7,
   "id": "5eb19738",
   "metadata": {},
   "outputs": [
    {
     "data": {
      "text/plain": [
       "'/home/maurochiozzotto/Documents/ITUTP862'"
      ]
     },
     "execution_count": 7,
     "metadata": {},
     "output_type": "execute_result"
    }
   ],
   "source": [
    "os.getcwd()"
   ]
  },
  {
   "cell_type": "code",
   "execution_count": 9,
   "id": "5654ca76-0dc6-4f32-ac33-1c878dfbf067",
   "metadata": {},
   "outputs": [],
   "source": [
    "# Abrir o Arquivo RESULT.TXT e enviar o resultado para o Raspberry:"
   ]
  },
  {
   "cell_type": "code",
   "execution_count": 11,
   "id": "e75fd653-93f5-49a1-8712-c8a5987e4fc2",
   "metadata": {},
   "outputs": [],
   "source": [
    "BUFFER_SIZE = 51"
   ]
  },
  {
   "cell_type": "code",
   "execution_count": 13,
   "id": "073061fb-2946-42eb-8f46-36ab17b168d4",
   "metadata": {},
   "outputs": [],
   "source": [
    "file_path = \"result.txt\""
   ]
  },
  {
   "cell_type": "code",
   "execution_count": 15,
   "id": "ca2569c0-6cc4-48b9-b0ea-ea49e3da4fb3",
   "metadata": {},
   "outputs": [
    {
     "name": "stdout",
     "output_type": "stream",
     "text": [
      "P862 Prediction (Raw MOS, MOS-LQO):  = 2082\t4312\n"
     ]
    }
   ],
   "source": [
    "try:\n",
    "    #Abra o arquivo em mode de leitura Binario:\n",
    "    with open(file_path,'rb') as file:\n",
    "    # Ler os primeiros N bytes do RESULT.txt:\n",
    "        data2 = file.read(BUFFER_SIZE)\n",
    "        #print(type(data2))\n",
    "        data2=data2.decode()\n",
    "        data2_sempontos = data2.replace('.','')\n",
    "        print(f\"{data2_sempontos}\")\n",
    "except FileNotFoundError:\n",
    "    print(f\"Erro Arquivo: O arquivo {file_path} nao foi encontrado.\")\n",
    "    exit(1)\n",
    "    "
   ]
  },
  {
   "cell_type": "code",
   "execution_count": 336,
   "id": "0140795e",
   "metadata": {},
   "outputs": [],
   "source": [
    "# Define Endereco IP do Server Raspberry e Porta:"
   ]
  },
  {
   "cell_type": "code",
   "execution_count": 337,
   "id": "ac230e8b-1fc9-49b1-bf56-936cac167933",
   "metadata": {},
   "outputs": [],
   "source": [
    "server_ip = \"192.168.15.100\""
   ]
  },
  {
   "cell_type": "code",
   "execution_count": 338,
   "id": "8d9641b9-b2ef-466f-9013-224ffcc8e501",
   "metadata": {},
   "outputs": [],
   "source": [
    "server_port = 51579"
   ]
  },
  {
   "cell_type": "code",
   "execution_count": 339,
   "id": "26d00652-e600-467e-b6c1-f4662e3523d3",
   "metadata": {},
   "outputs": [],
   "source": [
    "# Cria um socket UDP:"
   ]
  },
  {
   "cell_type": "code",
   "execution_count": 340,
   "id": "f0fb2a52-b5c2-42ee-8910-e699ac057d94",
   "metadata": {},
   "outputs": [],
   "source": [
    "client_socket = socket.socket(socket.AF_INET, socket.SOCK_DGRAM)"
   ]
  },
  {
   "cell_type": "code",
   "execution_count": 341,
   "id": "e1716c5b-cb02-4e69-afac-61437b778a13",
   "metadata": {},
   "outputs": [],
   "source": [
    "message = \"Boa tarde Servidor RaspberryPI3\""
   ]
  },
  {
   "cell_type": "code",
   "execution_count": 342,
   "id": "c2642fa0-ac1e-4e24-b366-593c64cf1d30",
   "metadata": {},
   "outputs": [],
   "source": [
    "# Enviar a msg acima para p servidor:"
   ]
  },
  {
   "cell_type": "code",
   "execution_count": 343,
   "id": "dbd59512-637c-4661-849a-49094601bb6c",
   "metadata": {},
   "outputs": [],
   "source": [
    "#client_socket.sendto(message.encode(), (server_ip,server_port))"
   ]
  },
  {
   "cell_type": "code",
   "execution_count": 344,
   "id": "76850dfc-ea38-4573-bd13-d7e370150fe2",
   "metadata": {},
   "outputs": [
    {
     "data": {
      "text/plain": [
       "48"
      ]
     },
     "execution_count": 344,
     "metadata": {},
     "output_type": "execute_result"
    }
   ],
   "source": [
    "client_socket.sendto(data2_sempontos.encode(), (server_ip,server_port))"
   ]
  },
  {
   "cell_type": "code",
   "execution_count": 345,
   "id": "3236f585-76f0-4446-8eff-4c1c62370ea2",
   "metadata": {},
   "outputs": [],
   "source": [
    "# Recebe a Resposta do Server Raspberry:"
   ]
  },
  {
   "cell_type": "code",
   "execution_count": 346,
   "id": "e17bcfe1-f32e-46a7-ae72-3c81e62e70f3",
   "metadata": {},
   "outputs": [],
   "source": [
    "data, addr = client_socket.recvfrom(100)  # Buffer de 100 bytes"
   ]
  },
  {
   "cell_type": "code",
   "execution_count": 347,
   "id": "e2082cb0-a15b-449b-8e17-2112b62bf1c1",
   "metadata": {},
   "outputs": [
    {
     "name": "stdout",
     "output_type": "stream",
     "text": [
      "A resposta do Raspberry PI eh: Ola,UBUNTU! Recebi mensagem: P862 Prediction (Raw MOS, MOS-LQO):  = 2082\t4312\n"
     ]
    }
   ],
   "source": [
    "print(f\"A resposta do Raspberry PI eh: {data.decode()}\")"
   ]
  },
  {
   "cell_type": "code",
   "execution_count": 348,
   "id": "cf9f4b80-18d9-49ac-ac27-843bb400e16d",
   "metadata": {},
   "outputs": [],
   "source": [
    "data, addr = client_socket.recvfrom(100)  # Buffer de 100 bytes"
   ]
  },
  {
   "cell_type": "code",
   "execution_count": 349,
   "id": "d73b065f-fce6-421f-9f43-59b472c58060",
   "metadata": {},
   "outputs": [
    {
     "name": "stdout",
     "output_type": "stream",
     "text": [
      "Finalmente.... Ei UBUNTU Bitrate eh 32000\n"
     ]
    }
   ],
   "source": [
    "print(f\"Finalmente.... {data.decode()}\")"
   ]
  },
  {
   "cell_type": "code",
   "execution_count": 350,
   "id": "9a48c45f-9f6a-4df0-9f55-f2de4d5efd47",
   "metadata": {},
   "outputs": [],
   "source": [
    "# Por fim, fecha o socket:"
   ]
  },
  {
   "cell_type": "code",
   "execution_count": 351,
   "id": "69014516-6787-46b6-ba55-97a0df4ef317",
   "metadata": {},
   "outputs": [],
   "source": [
    "client_socket.close()"
   ]
  },
  {
   "cell_type": "code",
   "execution_count": 352,
   "id": "719f7abd-2c92-4d95-982b-4512431d5346",
   "metadata": {},
   "outputs": [],
   "source": [
    "# Fim do programa Socket Client !"
   ]
  },
  {
   "cell_type": "code",
   "execution_count": null,
   "id": "792a159a-580c-4214-bf92-4ffbadf081fb",
   "metadata": {},
   "outputs": [],
   "source": []
  }
 ],
 "metadata": {
  "kernelspec": {
   "display_name": "Python [conda env:base] *",
   "language": "python",
   "name": "conda-base-py"
  },
  "language_info": {
   "codemirror_mode": {
    "name": "ipython",
    "version": 3
   },
   "file_extension": ".py",
   "mimetype": "text/x-python",
   "name": "python",
   "nbconvert_exporter": "python",
   "pygments_lexer": "ipython3",
   "version": "3.12.2"
  }
 },
 "nbformat": 4,
 "nbformat_minor": 5
}
